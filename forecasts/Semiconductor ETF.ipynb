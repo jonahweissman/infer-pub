{
 "cells": [
  {
   "cell_type": "code",
   "execution_count": 1,
   "id": "56df5b85-2f7c-4671-ac26-23393f01f553",
   "metadata": {},
   "outputs": [],
   "source": [
    "import pandas as pd\n",
    "import statsmodels.api as sm\n",
    "import matplotlib.pyplot as plt\n",
    "from scipy.stats import norm \n",
    "import exchange_calendars as xcals"
   ]
  },
  {
   "cell_type": "code",
   "execution_count": 2,
   "id": "0c9f1109-24b2-4d7b-a28b-ff020a6a89da",
   "metadata": {},
   "outputs": [
    {
     "data": {
      "text/html": [
       "<div>\n",
       "<style scoped>\n",
       "    .dataframe tbody tr th:only-of-type {\n",
       "        vertical-align: middle;\n",
       "    }\n",
       "\n",
       "    .dataframe tbody tr th {\n",
       "        vertical-align: top;\n",
       "    }\n",
       "\n",
       "    .dataframe thead th {\n",
       "        text-align: right;\n",
       "    }\n",
       "</style>\n",
       "<table border=\"1\" class=\"dataframe\">\n",
       "  <thead>\n",
       "    <tr style=\"text-align: right;\">\n",
       "      <th></th>\n",
       "      <th>Date</th>\n",
       "      <th>Open</th>\n",
       "      <th>High</th>\n",
       "      <th>Low</th>\n",
       "      <th>Close</th>\n",
       "      <th>Adj Close</th>\n",
       "      <th>Volume</th>\n",
       "    </tr>\n",
       "  </thead>\n",
       "  <tbody>\n",
       "    <tr>\n",
       "      <th>0</th>\n",
       "      <td>2021-01-04</td>\n",
       "      <td>220.550003</td>\n",
       "      <td>225.000000</td>\n",
       "      <td>216.559998</td>\n",
       "      <td>218.860001</td>\n",
       "      <td>217.694138</td>\n",
       "      <td>4650300</td>\n",
       "    </tr>\n",
       "    <tr>\n",
       "      <th>1</th>\n",
       "      <td>2021-01-05</td>\n",
       "      <td>218.449997</td>\n",
       "      <td>222.899994</td>\n",
       "      <td>218.449997</td>\n",
       "      <td>222.690002</td>\n",
       "      <td>221.503738</td>\n",
       "      <td>2319500</td>\n",
       "    </tr>\n",
       "    <tr>\n",
       "      <th>2</th>\n",
       "      <td>2021-01-06</td>\n",
       "      <td>220.830002</td>\n",
       "      <td>226.210007</td>\n",
       "      <td>219.940002</td>\n",
       "      <td>222.009995</td>\n",
       "      <td>220.827347</td>\n",
       "      <td>3844500</td>\n",
       "    </tr>\n",
       "    <tr>\n",
       "      <th>3</th>\n",
       "      <td>2021-01-07</td>\n",
       "      <td>225.800003</td>\n",
       "      <td>231.660004</td>\n",
       "      <td>225.800003</td>\n",
       "      <td>231.169998</td>\n",
       "      <td>229.938553</td>\n",
       "      <td>2622300</td>\n",
       "    </tr>\n",
       "    <tr>\n",
       "      <th>4</th>\n",
       "      <td>2021-01-08</td>\n",
       "      <td>235.119995</td>\n",
       "      <td>235.929993</td>\n",
       "      <td>227.860001</td>\n",
       "      <td>230.339996</td>\n",
       "      <td>229.112976</td>\n",
       "      <td>3364000</td>\n",
       "    </tr>\n",
       "    <tr>\n",
       "      <th>...</th>\n",
       "      <td>...</td>\n",
       "      <td>...</td>\n",
       "      <td>...</td>\n",
       "      <td>...</td>\n",
       "      <td>...</td>\n",
       "      <td>...</td>\n",
       "      <td>...</td>\n",
       "    </tr>\n",
       "    <tr>\n",
       "      <th>332</th>\n",
       "      <td>2022-04-28</td>\n",
       "      <td>232.410004</td>\n",
       "      <td>242.669998</td>\n",
       "      <td>229.669998</td>\n",
       "      <td>240.500000</td>\n",
       "      <td>240.500000</td>\n",
       "      <td>9548500</td>\n",
       "    </tr>\n",
       "    <tr>\n",
       "      <th>333</th>\n",
       "      <td>2022-04-29</td>\n",
       "      <td>235.929993</td>\n",
       "      <td>241.190002</td>\n",
       "      <td>229.429993</td>\n",
       "      <td>229.850006</td>\n",
       "      <td>229.850006</td>\n",
       "      <td>7243200</td>\n",
       "    </tr>\n",
       "    <tr>\n",
       "      <th>334</th>\n",
       "      <td>2022-05-02</td>\n",
       "      <td>229.889999</td>\n",
       "      <td>236.710007</td>\n",
       "      <td>227.729996</td>\n",
       "      <td>236.539993</td>\n",
       "      <td>236.539993</td>\n",
       "      <td>8199600</td>\n",
       "    </tr>\n",
       "    <tr>\n",
       "      <th>335</th>\n",
       "      <td>2022-05-03</td>\n",
       "      <td>235.720001</td>\n",
       "      <td>240.009995</td>\n",
       "      <td>234.110001</td>\n",
       "      <td>238.479996</td>\n",
       "      <td>238.479996</td>\n",
       "      <td>5312700</td>\n",
       "    </tr>\n",
       "    <tr>\n",
       "      <th>336</th>\n",
       "      <td>2022-05-04</td>\n",
       "      <td>239.990000</td>\n",
       "      <td>247.190000</td>\n",
       "      <td>232.450000</td>\n",
       "      <td>246.660000</td>\n",
       "      <td>246.660000</td>\n",
       "      <td>10413612</td>\n",
       "    </tr>\n",
       "  </tbody>\n",
       "</table>\n",
       "<p>337 rows × 7 columns</p>\n",
       "</div>"
      ],
      "text/plain": [
       "           Date        Open        High         Low       Close   Adj Close  \\\n",
       "0    2021-01-04  220.550003  225.000000  216.559998  218.860001  217.694138   \n",
       "1    2021-01-05  218.449997  222.899994  218.449997  222.690002  221.503738   \n",
       "2    2021-01-06  220.830002  226.210007  219.940002  222.009995  220.827347   \n",
       "3    2021-01-07  225.800003  231.660004  225.800003  231.169998  229.938553   \n",
       "4    2021-01-08  235.119995  235.929993  227.860001  230.339996  229.112976   \n",
       "..          ...         ...         ...         ...         ...         ...   \n",
       "332  2022-04-28  232.410004  242.669998  229.669998  240.500000  240.500000   \n",
       "333  2022-04-29  235.929993  241.190002  229.429993  229.850006  229.850006   \n",
       "334  2022-05-02  229.889999  236.710007  227.729996  236.539993  236.539993   \n",
       "335  2022-05-03  235.720001  240.009995  234.110001  238.479996  238.479996   \n",
       "336  2022-05-04  239.990000  247.190000  232.450000  246.660000  246.660000   \n",
       "\n",
       "       Volume  \n",
       "0     4650300  \n",
       "1     2319500  \n",
       "2     3844500  \n",
       "3     2622300  \n",
       "4     3364000  \n",
       "..        ...  \n",
       "332   9548500  \n",
       "333   7243200  \n",
       "334   8199600  \n",
       "335   5312700  \n",
       "336  10413612  \n",
       "\n",
       "[337 rows x 7 columns]"
      ]
     },
     "execution_count": 2,
     "metadata": {},
     "output_type": "execute_result"
    }
   ],
   "source": [
    "smh_price = pd.read_csv('data/SMH.csv')\n",
    "smh_price"
   ]
  },
  {
   "cell_type": "code",
   "execution_count": 3,
   "id": "3dc0135a-8ac7-417c-b321-d7e1a0ad9e28",
   "metadata": {},
   "outputs": [
    {
     "data": {
      "text/plain": [
       "Date\n",
       "2021-01-04    218.860001\n",
       "2021-01-05    222.690002\n",
       "2021-01-06    222.009995\n",
       "2021-01-07    231.169998\n",
       "2021-01-08    230.339996\n",
       "                 ...    \n",
       "2022-04-28    240.500000\n",
       "2022-04-29    229.850006\n",
       "2022-05-02    236.539993\n",
       "2022-05-03    238.479996\n",
       "2022-05-04    246.660000\n",
       "Freq: C, Name: Close, Length: 337, dtype: float64"
      ]
     },
     "execution_count": 3,
     "metadata": {},
     "output_type": "execute_result"
    }
   ],
   "source": [
    "smh_price['Date'] = pd.to_datetime(smh_price['Date'])\n",
    "smh_price = smh_price.set_index('Date')\n",
    "business_day = xcals.get_calendar('NYSE').day\n",
    "smh_price.index.freq = business_day\n",
    "smh_close = smh_price['Close']\n",
    "smh_close"
   ]
  },
  {
   "cell_type": "code",
   "execution_count": 4,
   "id": "8bdf2783-d6a4-4854-88c3-2dae07639a98",
   "metadata": {},
   "outputs": [
    {
     "data": {
      "text/plain": [
       "<AxesSubplot:xlabel='Date'>"
      ]
     },
     "execution_count": 4,
     "metadata": {},
     "output_type": "execute_result"
    },
    {
     "data": {
      "image/png": "[encoded data removed]",
      "text/plain": [
       "<Figure size 432x288 with 1 Axes>"
      ]
     },
     "metadata": {
      "needs_background": "light"
     },
     "output_type": "display_data"
    }
   ],
   "source": [
    "smh_close.plot()"
   ]
  },
  {
   "cell_type": "markdown",
   "id": "4b220df1-492e-4ec5-b9d0-45bfda48e77c",
   "metadata": {},
   "source": [
    "Let's start with SARIMAX for prediction. We need to validate the predictions to make sure they seem reasonable"
   ]
  },
  {
   "cell_type": "code",
   "execution_count": 5,
   "id": "77d06920-d7d3-4e11-9669-11dcfd0fd1b4",
   "metadata": {},
   "outputs": [
    {
     "name": "stdout",
     "output_type": "stream",
     "text": [
      "RUNNING THE L-BFGS-B CODE\n",
      "\n",
      "           * * *\n",
      "\n",
      "Machine precision = 2.220D-16\n",
      " N =            2     M =           10\n",
      "\n",
      "At X0         0 variables are exactly at the bounds\n",
      "\n",
      "At iterate    0    f=  1.09495D+03    |proj g|=  2.17899D+03\n",
      "\n",
      "At iterate    5    f=  1.51222D+01    |proj g|=  2.02089D+01\n",
      "\n",
      "At iterate   10    f=  4.04021D+00    |proj g|=  7.98890D-01\n",
      "\n",
      "At iterate   15    f=  3.25477D+00    |proj g|=  3.63498D-02\n",
      "\n",
      "At iterate   20    f=  3.16318D+00    |proj g|=  2.07557D-03\n",
      "\n",
      "At iterate   25    f=  3.15419D+00    |proj g|=  1.46525D-04\n",
      "\n",
      "At iterate   30    f=  3.15389D+00    |proj g|=  2.90354D-06\n",
      "\n",
      "           * * *\n",
      "\n",
      "Tit   = total number of iterations\n",
      "Tnf   = total number of function evaluations\n",
      "Tnint = total number of segments explored during Cauchy searches\n",
      "Skip  = number of BFGS updates skipped\n",
      "Nact  = number of active bounds at final generalized Cauchy point\n",
      "Projg = norm of the final projected gradient\n",
      "F     = final function value\n",
      "\n",
      "           * * *\n",
      "\n",
      "   N    Tit     Tnf  Tnint  Skip  Nact     Projg        F\n",
      "    2     30     32      1     0     0   2.904D-06   3.154D+00\n",
      "  F =   3.1538862889068167     \n",
      "\n",
      "CONVERGENCE: NORM_OF_PROJECTED_GRADIENT_<=_PGTOL            \n"
     ]
    },
    {
     "name": "stderr",
     "output_type": "stream",
     "text": [
      "/home/jonah/.virtualenvs/infer-pub/lib/python3.9/site-packages/statsmodels/tsa/statespace/sarimax.py:966: UserWarning: Non-stationary starting autoregressive parameters found. Using zeros as starting parameters.\n",
      "  warn('Non-stationary starting autoregressive parameters'\n",
      " This problem is unconstrained.\n"
     ]
    },
    {
     "data": {
      "text/html": [
       "<div>\n",
       "<style scoped>\n",
       "    .dataframe tbody tr th:only-of-type {\n",
       "        vertical-align: middle;\n",
       "    }\n",
       "\n",
       "    .dataframe tbody tr th {\n",
       "        vertical-align: top;\n",
       "    }\n",
       "\n",
       "    .dataframe thead th {\n",
       "        text-align: right;\n",
       "    }\n",
       "</style>\n",
       "<table border=\"1\" class=\"dataframe\">\n",
       "  <thead>\n",
       "    <tr style=\"text-align: right;\">\n",
       "      <th>Close</th>\n",
       "      <th>mean</th>\n",
       "      <th>mean_se</th>\n",
       "      <th>mean_ci_lower</th>\n",
       "      <th>mean_ci_upper</th>\n",
       "    </tr>\n",
       "  </thead>\n",
       "  <tbody>\n",
       "    <tr>\n",
       "      <th>2022-05-05</th>\n",
       "      <td>246.589665</td>\n",
       "      <td>5.606106</td>\n",
       "      <td>235.601899</td>\n",
       "      <td>257.577432</td>\n",
       "    </tr>\n",
       "    <tr>\n",
       "      <th>2022-05-06</th>\n",
       "      <td>246.519351</td>\n",
       "      <td>7.927101</td>\n",
       "      <td>230.982518</td>\n",
       "      <td>262.056183</td>\n",
       "    </tr>\n",
       "  </tbody>\n",
       "</table>\n",
       "</div>"
      ],
      "text/plain": [
       "Close             mean   mean_se  mean_ci_lower  mean_ci_upper\n",
       "2022-05-05  246.589665  5.606106     235.601899     257.577432\n",
       "2022-05-06  246.519351  7.927101     230.982518     262.056183"
      ]
     },
     "execution_count": 5,
     "metadata": {},
     "output_type": "execute_result"
    }
   ],
   "source": [
    "model = sm.tsa.SARIMAX(smh_close)\n",
    "results = model.fit()\n",
    "forecast_results = results.get_forecast('2022-05-06')\n",
    "summary = forecast_results.summary_frame()\n",
    "summary"
   ]
  },
  {
   "cell_type": "code",
   "execution_count": 10,
   "id": "484d5898-8a1d-440d-9d8d-243bd65d24b9",
   "metadata": {},
   "outputs": [
    {
     "data": {
      "image/png": "[encoded data removed]",
      "text/plain": [
       "<Figure size 1080x360 with 1 Axes>"
      ]
     },
     "metadata": {
      "needs_background": "light"
     },
     "output_type": "display_data"
    }
   ],
   "source": [
    "fig, ax = plt.subplots(figsize=(15, 5))\n",
    "smh_close.plot(ax=ax)\n",
    "fcast = results.get_forecast('2022-05-06').summary_frame()\n",
    "fcast['mean'].plot(ax=ax, style='k--')\n",
    "ax.fill_between(fcast.index, fcast['mean_ci_lower'], fcast['mean_ci_upper'], color='k', alpha=0.1);"
   ]
  },
  {
   "cell_type": "markdown",
   "id": "8dd852cb-f733-4281-a2d5-91f0a282c1b5",
   "metadata": {},
   "source": [
    "seems reasonable to me"
   ]
  },
  {
   "cell_type": "code",
   "execution_count": 11,
   "id": "4d1c3aec-a361-4495-b9f7-de8bd7feb3d3",
   "metadata": {},
   "outputs": [
    {
     "data": {
      "text/plain": [
       "{'Less than $240': '21%',\n",
       " 'More than or equal to $240 but less than $260': '75%',\n",
       " 'More than or equal to $260 but less than $280': '4%',\n",
       " 'More than or equal to $280 but less than $300': '0%',\n",
       " 'More than or equal to $300': '0%'}"
      ]
     },
     "execution_count": 11,
     "metadata": {},
     "output_type": "execute_result"
    }
   ],
   "source": [
    "mean = summary.loc['2022-05-6']['mean']\n",
    "se = summary.loc['2022-05-6']['mean_se']\n",
    "dist = norm(mean, se)\n",
    "forecast = {\n",
    "    \"Less than $240\": dist.cdf(240),\n",
    "    \"More than or equal to $240 but less than $260\": dist.cdf(260) - dist.cdf(240),\n",
    "    \"More than or equal to $260 but less than $280\": dist.cdf(280) - dist.cdf(260),\n",
    "    \"More than or equal to $280 but less than $300\": dist.cdf(300) - dist.cdf(280),\n",
    "    \"More than or equal to $300\": 1 - dist.cdf(300)\n",
    "}\n",
    "{k: f'{round(100*v)}%' for k, v in forecast.items()}"
   ]
  },
  {
   "cell_type": "code",
   "execution_count": null,
   "id": "8e179b22-2b5c-47f6-a9bf-8d42e176f397",
   "metadata": {},
   "outputs": [],
   "source": []
  },
  {
   "cell_type": "code",
   "execution_count": null,
   "id": "9e0b1e91-4008-4564-88f6-2f7d0b13d093",
   "metadata": {},
   "outputs": [],
   "source": []
  }
 ],
 "metadata": {
  "kernelspec": {
   "display_name": "Python 3 (ipykernel)",
   "language": "python",
   "name": "python3"
  },
  "language_info": {
   "codemirror_mode": {
    "name": "ipython",
    "version": 3
   },
   "file_extension": ".py",
   "mimetype": "text/x-python",
   "name": "python",
   "nbconvert_exporter": "python",
   "pygments_lexer": "ipython3",
   "version": "3.9.7"
  }
 },
 "nbformat": 4,
 "nbformat_minor": 5
}
