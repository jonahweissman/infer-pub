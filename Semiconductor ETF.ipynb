{
 "cells": [
  {
   "cell_type": "code",
   "execution_count": 8,
   "id": "56df5b85-2f7c-4671-ac26-23393f01f553",
   "metadata": {},
   "outputs": [],
   "source": [
    "import pandas as pd\n",
    "import statsmodels.api as sm\n",
    "import matplotlib.pyplot as plt\n",
    "from scipy.stats import norm \n",
    "import exchange_calendars as xcals"
   ]
  },
  {
   "cell_type": "code",
   "execution_count": 9,
   "id": "0c9f1109-24b2-4d7b-a28b-ff020a6a89da",
   "metadata": {},
   "outputs": [
    {
     "data": {
      "text/html": [
       "<div>\n",
       "<style scoped>\n",
       "    .dataframe tbody tr th:only-of-type {\n",
       "        vertical-align: middle;\n",
       "    }\n",
       "\n",
       "    .dataframe tbody tr th {\n",
       "        vertical-align: top;\n",
       "    }\n",
       "\n",
       "    .dataframe thead th {\n",
       "        text-align: right;\n",
       "    }\n",
       "</style>\n",
       "<table border=\"1\" class=\"dataframe\">\n",
       "  <thead>\n",
       "    <tr style=\"text-align: right;\">\n",
       "      <th></th>\n",
       "      <th>Date</th>\n",
       "      <th>Open</th>\n",
       "      <th>High</th>\n",
       "      <th>Low</th>\n",
       "      <th>Close</th>\n",
       "      <th>Adj Close</th>\n",
       "      <th>Volume</th>\n",
       "    </tr>\n",
       "  </thead>\n",
       "  <tbody>\n",
       "    <tr>\n",
       "      <th>0</th>\n",
       "      <td>2021-05-04</td>\n",
       "      <td>237.509995</td>\n",
       "      <td>237.919998</td>\n",
       "      <td>232.800003</td>\n",
       "      <td>237.199997</td>\n",
       "      <td>235.936432</td>\n",
       "      <td>7312700</td>\n",
       "    </tr>\n",
       "    <tr>\n",
       "      <th>1</th>\n",
       "      <td>2021-05-05</td>\n",
       "      <td>239.779999</td>\n",
       "      <td>241.289993</td>\n",
       "      <td>236.949997</td>\n",
       "      <td>238.250000</td>\n",
       "      <td>236.980850</td>\n",
       "      <td>4935800</td>\n",
       "    </tr>\n",
       "    <tr>\n",
       "      <th>2</th>\n",
       "      <td>2021-05-06</td>\n",
       "      <td>237.750000</td>\n",
       "      <td>240.630005</td>\n",
       "      <td>235.520004</td>\n",
       "      <td>240.210007</td>\n",
       "      <td>238.930405</td>\n",
       "      <td>6425600</td>\n",
       "    </tr>\n",
       "    <tr>\n",
       "      <th>3</th>\n",
       "      <td>2021-05-07</td>\n",
       "      <td>243.570007</td>\n",
       "      <td>245.500000</td>\n",
       "      <td>241.369995</td>\n",
       "      <td>243.600006</td>\n",
       "      <td>242.302353</td>\n",
       "      <td>5385800</td>\n",
       "    </tr>\n",
       "    <tr>\n",
       "      <th>4</th>\n",
       "      <td>2021-05-10</td>\n",
       "      <td>241.100006</td>\n",
       "      <td>241.100006</td>\n",
       "      <td>232.380005</td>\n",
       "      <td>232.800003</td>\n",
       "      <td>231.559875</td>\n",
       "      <td>5317000</td>\n",
       "    </tr>\n",
       "    <tr>\n",
       "      <th>...</th>\n",
       "      <td>...</td>\n",
       "      <td>...</td>\n",
       "      <td>...</td>\n",
       "      <td>...</td>\n",
       "      <td>...</td>\n",
       "      <td>...</td>\n",
       "      <td>...</td>\n",
       "    </tr>\n",
       "    <tr>\n",
       "      <th>248</th>\n",
       "      <td>2022-04-27</td>\n",
       "      <td>225.960007</td>\n",
       "      <td>232.970001</td>\n",
       "      <td>225.800003</td>\n",
       "      <td>227.509995</td>\n",
       "      <td>227.509995</td>\n",
       "      <td>7378200</td>\n",
       "    </tr>\n",
       "    <tr>\n",
       "      <th>249</th>\n",
       "      <td>2022-04-28</td>\n",
       "      <td>232.410004</td>\n",
       "      <td>242.669998</td>\n",
       "      <td>229.669998</td>\n",
       "      <td>240.500000</td>\n",
       "      <td>240.500000</td>\n",
       "      <td>9548500</td>\n",
       "    </tr>\n",
       "    <tr>\n",
       "      <th>250</th>\n",
       "      <td>2022-04-29</td>\n",
       "      <td>235.929993</td>\n",
       "      <td>241.190002</td>\n",
       "      <td>229.429993</td>\n",
       "      <td>229.850006</td>\n",
       "      <td>229.850006</td>\n",
       "      <td>7243200</td>\n",
       "    </tr>\n",
       "    <tr>\n",
       "      <th>251</th>\n",
       "      <td>2022-05-02</td>\n",
       "      <td>229.889999</td>\n",
       "      <td>236.710007</td>\n",
       "      <td>227.729996</td>\n",
       "      <td>236.539993</td>\n",
       "      <td>236.539993</td>\n",
       "      <td>8199600</td>\n",
       "    </tr>\n",
       "    <tr>\n",
       "      <th>252</th>\n",
       "      <td>2022-05-03</td>\n",
       "      <td>235.720001</td>\n",
       "      <td>240.009995</td>\n",
       "      <td>234.110001</td>\n",
       "      <td>238.479996</td>\n",
       "      <td>238.479996</td>\n",
       "      <td>5312670</td>\n",
       "    </tr>\n",
       "  </tbody>\n",
       "</table>\n",
       "<p>253 rows × 7 columns</p>\n",
       "</div>"
      ],
      "text/plain": [
       "           Date        Open        High         Low       Close   Adj Close  \\\n",
       "0    2021-05-04  237.509995  237.919998  232.800003  237.199997  235.936432   \n",
       "1    2021-05-05  239.779999  241.289993  236.949997  238.250000  236.980850   \n",
       "2    2021-05-06  237.750000  240.630005  235.520004  240.210007  238.930405   \n",
       "3    2021-05-07  243.570007  245.500000  241.369995  243.600006  242.302353   \n",
       "4    2021-05-10  241.100006  241.100006  232.380005  232.800003  231.559875   \n",
       "..          ...         ...         ...         ...         ...         ...   \n",
       "248  2022-04-27  225.960007  232.970001  225.800003  227.509995  227.509995   \n",
       "249  2022-04-28  232.410004  242.669998  229.669998  240.500000  240.500000   \n",
       "250  2022-04-29  235.929993  241.190002  229.429993  229.850006  229.850006   \n",
       "251  2022-05-02  229.889999  236.710007  227.729996  236.539993  236.539993   \n",
       "252  2022-05-03  235.720001  240.009995  234.110001  238.479996  238.479996   \n",
       "\n",
       "      Volume  \n",
       "0    7312700  \n",
       "1    4935800  \n",
       "2    6425600  \n",
       "3    5385800  \n",
       "4    5317000  \n",
       "..       ...  \n",
       "248  7378200  \n",
       "249  9548500  \n",
       "250  7243200  \n",
       "251  8199600  \n",
       "252  5312670  \n",
       "\n",
       "[253 rows x 7 columns]"
      ]
     },
     "execution_count": 9,
     "metadata": {},
     "output_type": "execute_result"
    }
   ],
   "source": [
    "smh_price = pd.read_csv('data/SMH.csv')\n",
    "smh_price"
   ]
  },
  {
   "cell_type": "code",
   "execution_count": 10,
   "id": "3dc0135a-8ac7-417c-b321-d7e1a0ad9e28",
   "metadata": {},
   "outputs": [
    {
     "data": {
      "text/plain": [
       "Date\n",
       "2021-05-04    237.199997\n",
       "2021-05-05    238.250000\n",
       "2021-05-06    240.210007\n",
       "2021-05-07    243.600006\n",
       "2021-05-10    232.800003\n",
       "                 ...    \n",
       "2022-04-27    227.509995\n",
       "2022-04-28    240.500000\n",
       "2022-04-29    229.850006\n",
       "2022-05-02    236.539993\n",
       "2022-05-03    238.479996\n",
       "Freq: C, Name: Close, Length: 253, dtype: float64"
      ]
     },
     "execution_count": 10,
     "metadata": {},
     "output_type": "execute_result"
    }
   ],
   "source": [
    "smh_price['Date'] = pd.to_datetime(smh_price['Date'])\n",
    "smh_price = smh_price.set_index('Date')\n",
    "business_day = xcals.get_calendar('NYSE').day\n",
    "smh_price.index.freq = business_day\n",
    "smh_close = smh_price['Close']\n",
    "smh_close"
   ]
  },
  {
   "cell_type": "code",
   "execution_count": 11,
   "id": "8bdf2783-d6a4-4854-88c3-2dae07639a98",
   "metadata": {},
   "outputs": [
    {
     "data": {
      "text/plain": [
       "<AxesSubplot:xlabel='Date'>"
      ]
     },
     "execution_count": 11,
     "metadata": {},
     "output_type": "execute_result"
    },
    {
     "data": {
      "image/png": "[encoded data removed]",
      "text/plain": [
       "<Figure size 432x288 with 1 Axes>"
      ]
     },
     "metadata": {
      "needs_background": "light"
     },
     "output_type": "display_data"
    }
   ],
   "source": [
    "smh_close.plot()"
   ]
  },
  {
   "cell_type": "markdown",
   "id": "4b220df1-492e-4ec5-b9d0-45bfda48e77c",
   "metadata": {},
   "source": [
    "Let's start with SARIMAX for prediction. We need to validate the predictions to make sure they seem reasonable"
   ]
  },
  {
   "cell_type": "code",
   "execution_count": 12,
   "id": "77d06920-d7d3-4e11-9669-11dcfd0fd1b4",
   "metadata": {},
   "outputs": [
    {
     "name": "stdout",
     "output_type": "stream",
     "text": [
      "RUNNING THE L-BFGS-B CODE\n",
      "\n",
      "           * * *\n",
      "\n",
      "Machine precision = 2.220D-16\n",
      " N =            2     M =           10\n",
      "\n",
      "At X0         0 variables are exactly at the bounds\n",
      "\n",
      "At iterate    0    f=  3.14366D+00    |proj g|=  2.02808D-04\n",
      "\n",
      "At iterate    5    f=  3.14366D+00    |proj g|=  1.62283D-04\n",
      "\n",
      "At iterate   10    f=  3.14363D+00    |proj g|=  1.77848D-03\n",
      "\n",
      "           * * *\n",
      "\n",
      "Tit   = total number of iterations\n",
      "Tnf   = total number of function evaluations\n",
      "Tnint = total number of segments explored during Cauchy searches\n",
      "Skip  = number of BFGS updates skipped\n",
      "Nact  = number of active bounds at final generalized Cauchy point\n",
      "Projg = norm of the final projected gradient\n",
      "F     = final function value\n",
      "\n",
      "           * * *\n",
      "\n",
      "   N    Tit     Tnf  Tnint  Skip  Nact     Projg        F\n",
      "    2     14     16      1     0     0   1.409D-06   3.144D+00\n",
      "  F =   3.1435665712821592     \n",
      "\n",
      "CONVERGENCE: NORM_OF_PROJECTED_GRADIENT_<=_PGTOL            \n"
     ]
    },
    {
     "name": "stderr",
     "output_type": "stream",
     "text": [
      " This problem is unconstrained.\n"
     ]
    },
    {
     "data": {
      "text/html": [
       "<div>\n",
       "<style scoped>\n",
       "    .dataframe tbody tr th:only-of-type {\n",
       "        vertical-align: middle;\n",
       "    }\n",
       "\n",
       "    .dataframe tbody tr th {\n",
       "        vertical-align: top;\n",
       "    }\n",
       "\n",
       "    .dataframe thead th {\n",
       "        text-align: right;\n",
       "    }\n",
       "</style>\n",
       "<table border=\"1\" class=\"dataframe\">\n",
       "  <thead>\n",
       "    <tr style=\"text-align: right;\">\n",
       "      <th>Close</th>\n",
       "      <th>mean</th>\n",
       "      <th>mean_se</th>\n",
       "      <th>mean_ci_lower</th>\n",
       "      <th>mean_ci_upper</th>\n",
       "    </tr>\n",
       "  </thead>\n",
       "  <tbody>\n",
       "    <tr>\n",
       "      <th>2022-05-04</th>\n",
       "      <td>238.416694</td>\n",
       "      <td>5.527413</td>\n",
       "      <td>227.583163</td>\n",
       "      <td>249.250224</td>\n",
       "    </tr>\n",
       "    <tr>\n",
       "      <th>2022-05-05</th>\n",
       "      <td>238.353408</td>\n",
       "      <td>7.815905</td>\n",
       "      <td>223.034516</td>\n",
       "      <td>253.672300</td>\n",
       "    </tr>\n",
       "    <tr>\n",
       "      <th>2022-05-06</th>\n",
       "      <td>238.290139</td>\n",
       "      <td>9.571219</td>\n",
       "      <td>219.530894</td>\n",
       "      <td>257.049384</td>\n",
       "    </tr>\n",
       "  </tbody>\n",
       "</table>\n",
       "</div>"
      ],
      "text/plain": [
       "Close             mean   mean_se  mean_ci_lower  mean_ci_upper\n",
       "2022-05-04  238.416694  5.527413     227.583163     249.250224\n",
       "2022-05-05  238.353408  7.815905     223.034516     253.672300\n",
       "2022-05-06  238.290139  9.571219     219.530894     257.049384"
      ]
     },
     "execution_count": 12,
     "metadata": {},
     "output_type": "execute_result"
    }
   ],
   "source": [
    "model = sm.tsa.SARIMAX(smh_close)\n",
    "results = model.fit()\n",
    "forecast_results = results.get_forecast('2022-05-06')\n",
    "summary = forecast_results.summary_frame()\n",
    "summary"
   ]
  },
  {
   "cell_type": "code",
   "execution_count": 13,
   "id": "484d5898-8a1d-440d-9d8d-243bd65d24b9",
   "metadata": {},
   "outputs": [
    {
     "data": {
      "image/png": "[encoded data removed]",
      "text/plain": [
       "<Figure size 1080x360 with 1 Axes>"
      ]
     },
     "metadata": {
      "needs_background": "light"
     },
     "output_type": "display_data"
    }
   ],
   "source": [
    "fig, ax = plt.subplots(figsize=(15, 5))\n",
    "smh_close.plot(ax=ax)\n",
    "fcast = results.get_forecast('2022-05-06').summary_frame()\n",
    "fcast['mean'].plot(ax=ax, style='k--')\n",
    "ax.fill_between(fcast.index, fcast['mean_ci_lower'], fcast['mean_ci_upper'], color='k', alpha=0.1);"
   ]
  },
  {
   "cell_type": "markdown",
   "id": "8dd852cb-f733-4281-a2d5-91f0a282c1b5",
   "metadata": {},
   "source": [
    "seems reasonable to me"
   ]
  },
  {
   "cell_type": "code",
   "execution_count": 14,
   "id": "4d1c3aec-a361-4495-b9f7-de8bd7feb3d3",
   "metadata": {},
   "outputs": [
    {
     "data": {
      "text/plain": [
       "{'Less than $240': '57%',\n",
       " 'More than or equal to $240 but less than $260': '42%',\n",
       " 'More than or equal to $260 but less than $280': '1%',\n",
       " 'More than or equal to $280 but less than $300': '0%',\n",
       " 'More than or equal to $300': '0%'}"
      ]
     },
     "execution_count": 14,
     "metadata": {},
     "output_type": "execute_result"
    }
   ],
   "source": [
    "mean = summary.loc['2022-05-6']['mean']\n",
    "se = summary.loc['2022-05-6']['mean_se']\n",
    "dist = norm(mean, se)\n",
    "forecast = {\n",
    "    \"Less than $240\": dist.cdf(240),\n",
    "    \"More than or equal to $240 but less than $260\": dist.cdf(260) - dist.cdf(240),\n",
    "    \"More than or equal to $260 but less than $280\": dist.cdf(280) - dist.cdf(260),\n",
    "    \"More than or equal to $280 but less than $300\": dist.cdf(300) - dist.cdf(280),\n",
    "    \"More than or equal to $300\": 1 - dist.cdf(300)\n",
    "}\n",
    "{k: f'{round(100*v)}%' for k, v in forecast.items()}"
   ]
  },
  {
   "cell_type": "code",
   "execution_count": null,
   "id": "8e179b22-2b5c-47f6-a9bf-8d42e176f397",
   "metadata": {},
   "outputs": [],
   "source": []
  },
  {
   "cell_type": "code",
   "execution_count": null,
   "id": "9e0b1e91-4008-4564-88f6-2f7d0b13d093",
   "metadata": {},
   "outputs": [],
   "source": []
  }
 ],
 "metadata": {
  "kernelspec": {
   "display_name": "Python 3 (ipykernel)",
   "language": "python",
   "name": "python3"
  },
  "language_info": {
   "codemirror_mode": {
    "name": "ipython",
    "version": 3
   },
   "file_extension": ".py",
   "mimetype": "text/x-python",
   "name": "python",
   "nbconvert_exporter": "python",
   "pygments_lexer": "ipython3",
   "version": "3.9.7"
  }
 },
 "nbformat": 4,
 "nbformat_minor": 5
}
